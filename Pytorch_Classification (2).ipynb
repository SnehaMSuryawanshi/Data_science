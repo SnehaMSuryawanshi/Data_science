{
  "nbformat": 4,
  "nbformat_minor": 0,
  "metadata": {
    "colab": {
      "provenance": [],
      "gpuType": "T4"
    },
    "kernelspec": {
      "name": "python3",
      "display_name": "Python 3"
    },
    "language_info": {
      "name": "python"
    },
    "accelerator": "GPU"
  },
  "cells": [
    {
      "cell_type": "code",
      "execution_count": 1,
      "metadata": {
        "id": "b9FWq2GyIWPO"
      },
      "outputs": [],
      "source": [
        "import torch\n",
        "from torch import nn #it means that importing an neural network library\n",
        "from torch.utils.data import DataLoader #helps in creating the batches\n",
        "\n",
        "'''\n",
        "Gradient Descent-All the datapoints then compute output for all -compute loss\n",
        "Stochastic Gradient Descent - Take single datapoint-computr output-comupute loss-gradient descent-next datapoint\n",
        "Mini Batch gradient descent -create batches of data-compute outplut for each batch-gradient descent-next batch\n",
        "'''\n",
        "from torchvision import datasets #download the dataset\n",
        "from torchvision.transforms import ToTensor # is used to convert the input to torch tensor format\n",
        "import matplotlib.pyplot as plt\n",
        "import torch.nn.functional as F\n"
      ]
    },
    {
      "cell_type": "markdown",
      "source": [
        "## Download the dataset"
      ],
      "metadata": {
        "id": "K62WYpyIK73Y"
      }
    },
    {
      "cell_type": "code",
      "source": [
        "training_data=datasets.FashionMNIST(root=\"data\",train=True,download=True,transform=ToTensor())\n",
        "testing_data=datasets.FashionMNIST(root=\"data\",train=False,download=True,transform=ToTensor())"
      ],
      "metadata": {
        "id": "XQvhP8ETLBUz",
        "colab": {
          "base_uri": "https://localhost:8080/"
        },
        "outputId": "b1245886-cb0e-4632-e6b8-c388ccb57f81"
      },
      "execution_count": 2,
      "outputs": [
        {
          "output_type": "stream",
          "name": "stdout",
          "text": [
            "Downloading http://fashion-mnist.s3-website.eu-central-1.amazonaws.com/train-images-idx3-ubyte.gz\n",
            "Downloading http://fashion-mnist.s3-website.eu-central-1.amazonaws.com/train-images-idx3-ubyte.gz to data/FashionMNIST/raw/train-images-idx3-ubyte.gz\n"
          ]
        },
        {
          "output_type": "stream",
          "name": "stderr",
          "text": [
            "100%|██████████| 26421880/26421880 [00:01<00:00, 18499814.03it/s]\n"
          ]
        },
        {
          "output_type": "stream",
          "name": "stdout",
          "text": [
            "Extracting data/FashionMNIST/raw/train-images-idx3-ubyte.gz to data/FashionMNIST/raw\n",
            "\n",
            "Downloading http://fashion-mnist.s3-website.eu-central-1.amazonaws.com/train-labels-idx1-ubyte.gz\n",
            "Downloading http://fashion-mnist.s3-website.eu-central-1.amazonaws.com/train-labels-idx1-ubyte.gz to data/FashionMNIST/raw/train-labels-idx1-ubyte.gz\n"
          ]
        },
        {
          "output_type": "stream",
          "name": "stderr",
          "text": [
            "100%|██████████| 29515/29515 [00:00<00:00, 318808.37it/s]\n"
          ]
        },
        {
          "output_type": "stream",
          "name": "stdout",
          "text": [
            "Extracting data/FashionMNIST/raw/train-labels-idx1-ubyte.gz to data/FashionMNIST/raw\n",
            "\n",
            "Downloading http://fashion-mnist.s3-website.eu-central-1.amazonaws.com/t10k-images-idx3-ubyte.gz\n",
            "Downloading http://fashion-mnist.s3-website.eu-central-1.amazonaws.com/t10k-images-idx3-ubyte.gz to data/FashionMNIST/raw/t10k-images-idx3-ubyte.gz\n"
          ]
        },
        {
          "output_type": "stream",
          "name": "stderr",
          "text": [
            "100%|██████████| 4422102/4422102 [00:00<00:00, 5550244.36it/s]\n"
          ]
        },
        {
          "output_type": "stream",
          "name": "stdout",
          "text": [
            "Extracting data/FashionMNIST/raw/t10k-images-idx3-ubyte.gz to data/FashionMNIST/raw\n",
            "\n",
            "Downloading http://fashion-mnist.s3-website.eu-central-1.amazonaws.com/t10k-labels-idx1-ubyte.gz\n",
            "Downloading http://fashion-mnist.s3-website.eu-central-1.amazonaws.com/t10k-labels-idx1-ubyte.gz to data/FashionMNIST/raw/t10k-labels-idx1-ubyte.gz\n"
          ]
        },
        {
          "output_type": "stream",
          "name": "stderr",
          "text": [
            "100%|██████████| 5148/5148 [00:00<00:00, 22283051.59it/s]"
          ]
        },
        {
          "output_type": "stream",
          "name": "stdout",
          "text": [
            "Extracting data/FashionMNIST/raw/t10k-labels-idx1-ubyte.gz to data/FashionMNIST/raw\n",
            "\n"
          ]
        },
        {
          "output_type": "stream",
          "name": "stderr",
          "text": [
            "\n"
          ]
        }
      ]
    },
    {
      "cell_type": "code",
      "source": [
        "len(training_data)"
      ],
      "metadata": {
        "colab": {
          "base_uri": "https://localhost:8080/"
        },
        "id": "WFnHQMjTMk3w",
        "outputId": "21e1e7bf-938d-4648-e4f0-da5f3632385f"
      },
      "execution_count": 3,
      "outputs": [
        {
          "output_type": "execute_result",
          "data": {
            "text/plain": [
              "60000"
            ]
          },
          "metadata": {},
          "execution_count": 3
        }
      ]
    },
    {
      "cell_type": "code",
      "source": [
        "labels_map = {\n",
        "    0: \"T-Shirt\",\n",
        "    1: \"Trouser\",\n",
        "    2: \"Pullover\",\n",
        "    3: \"Dress\",\n",
        "    4: \"Coat\",\n",
        "    5: \"Sandal\",\n",
        "    6: \"Shirt\",\n",
        "    7: \"Sneaker\",\n",
        "    8: \"Bag\",\n",
        "    9: \"Ankle Boot\",\n",
        "}\n",
        "#This is a dictionary that maps class labels (0 to 9) to their corresponding class names (e.g., \"T-Shirt,\" \"Trouser,\" etc.). This mapping is useful for displaying the labels on the images.\n",
        "figure=plt.figure(figsize=(8,8))\n",
        "\n",
        "cols,rows=3,3\n",
        "for i in range(1,rows*cols+1):\n",
        "  sample_idx=torch.randint(len(training_data),size=(1,)).item()\n",
        "  # This line generates a random index within the range of the training dataset's length to select a random sample.\n",
        "  img,label=training_data[sample_idx]\n",
        "  # This line retrieves the image and its corresponding label from the training dataset based on the randomly chosen index.\n",
        "  figure.add_subplot(rows,cols,i)\n",
        "  # This line adds a subplot to the figure. The i variable determines the position of the subplot in the grid.\n",
        "  plt.title(labels_map[label])\n",
        "  plt.imshow(img.squeeze())"
      ],
      "metadata": {
        "colab": {
          "base_uri": "https://localhost:8080/",
          "height": 699
        },
        "id": "crssNbmALbUg",
        "outputId": "ba1cebb8-1d9d-4e79-ff20-ea82e1a77814"
      },
      "execution_count": 4,
      "outputs": [
        {
          "output_type": "display_data",
          "data": {
            "text/plain": [
              "<Figure size 800x800 with 9 Axes>"
            ],
            "image/png": "[encoded data removed]"
          },
          "metadata": {}
        }
      ]
    },
    {
      "cell_type": "markdown",
      "source": [
        "## Batching"
      ],
      "metadata": {
        "id": "kggLulJ0OGpA"
      }
    },
    {
      "cell_type": "code",
      "source": [
        "batch_size=64\n",
        "# A batch size of 64 means that during training and testing, the data loader will load and process 64 samples at a time.\n",
        "\n",
        "train_dataloader=DataLoader(training_data,batch_size=batch_size)\n",
        "test_dataloader=DataLoader(testing_data,batch_size=batch_size)\n"
      ],
      "metadata": {
        "id": "7fVTTfbAL3D7"
      },
      "execution_count": 5,
      "outputs": []
    },
    {
      "cell_type": "markdown",
      "source": [
        "## Model Creation"
      ],
      "metadata": {
        "id": "ArW-9w7pOiRf"
      }
    },
    {
      "cell_type": "code",
      "source": [
        "class NeuralNetwork(nn.Module): #\n",
        "\n",
        "  def __init__(self):\n",
        "    super(NeuralNetwork,self).__init__()\n",
        "\n",
        "    ## Init function is used to define the architecture blocks\n",
        "    self.flatten = nn.Flatten() # 28 x 28 x1 - 764 x 1 vectpor\n",
        "    self.layer1 = nn.Linear(28*28,512)\n",
        "    self.layer2 = nn.Linear(512,256)\n",
        "    self.layer3 = nn.Linear(256,10)\n",
        "\n",
        "  def forward(self,x):\n",
        "    x = self.flatten(x)\n",
        "    x = self.layer1(x)\n",
        "    x = F.relu(x) #F.sigmoid()\n",
        "    x = self.layer2(x)\n",
        "    x = F.sigmoid(x)\n",
        "    x = self.layer3(x)\n",
        "    return x"
      ],
      "metadata": {
        "id": "_4ZtpbCfOhLp"
      },
      "execution_count": 6,
      "outputs": []
    },
    {
      "cell_type": "code",
      "source": [
        "if torch.cuda.is_available():\n",
        "  device='cuda'\n",
        "else:\n",
        "  device='cpu'"
      ],
      "metadata": {
        "id": "u5w8nsTJpGCi"
      },
      "execution_count": 7,
      "outputs": []
    },
    {
      "cell_type": "code",
      "source": [
        "model=NeuralNetwork()\n",
        "model.to(device)\n",
        "model"
      ],
      "metadata": {
        "colab": {
          "base_uri": "https://localhost:8080/"
        },
        "id": "cWBJUYrntp--",
        "outputId": "3a814268-722c-436c-e49d-5f5a62d25bf7"
      },
      "execution_count": 8,
      "outputs": [
        {
          "output_type": "execute_result",
          "data": {
            "text/plain": [
              "NeuralNetwork(\n",
              "  (flatten): Flatten(start_dim=1, end_dim=-1)\n",
              "  (layer1): Linear(in_features=784, out_features=512, bias=True)\n",
              "  (layer2): Linear(in_features=512, out_features=256, bias=True)\n",
              "  (layer3): Linear(in_features=256, out_features=10, bias=True)\n",
              ")"
            ]
          },
          "metadata": {},
          "execution_count": 8
        }
      ]
    },
    {
      "cell_type": "code",
      "source": [
        "loss_fn=nn.CrossEntropyLoss()\n",
        "optimizer = torch.optim.SGD(model.parameters(),lr = 1e-2)"
      ],
      "metadata": {
        "id": "R50LqISCtzX7"
      },
      "execution_count": 9,
      "outputs": []
    },
    {
      "cell_type": "code",
      "source": [
        "def training_loop(dataloader,model,loss_fn,optimizer):\n",
        "  model.train()\n",
        "\n",
        "  #pass every batch of data to the model\n",
        "  for batch, (X,y) in enumerate(dataloader):\n",
        "    X = X.to(device)\n",
        "    y = y.to(device)\n",
        "\n",
        "    pred = model(X)\n",
        "    loss = loss_fn(pred,y)\n",
        "    optimizer.zero_grad()\n",
        "    loss.backward()\n",
        "    optimizer.step()\n",
        "\n",
        "\n",
        "    if batch % 100 == 0:\n",
        "      print (f'loss : {loss.item()}')"
      ],
      "metadata": {
        "id": "q3t8vfjSvyls"
      },
      "execution_count": 10,
      "outputs": []
    },
    {
      "cell_type": "code",
      "source": [
        "def testing_loop(dataloader,model,loss_fn):\n",
        "  model.eval()\n",
        "  test_loss=0\n",
        "  correct=0\n",
        "  for X,y in dataloader:\n",
        "    X=X.to(device)\n",
        "    y=y.to(device)\n",
        "\n",
        "    pred=model(X)\n",
        "    correct+=(pred.argmax(1)==y).type(torch.float).sum().item()\n",
        "    test_loss+=loss_fn(pred,y).item()\n",
        "  test_loss=test_loss/len(dataloader)\n",
        "  print(len(dataloader.dataset))\n",
        "  accuracy=(correct/len(dataloader.dataset))*100\n",
        "  print (f'Accuracy : {accuracy} with test error {test_loss}')"
      ],
      "metadata": {
        "id": "UOd-GUi2x_hf"
      },
      "execution_count": 11,
      "outputs": []
    },
    {
      "cell_type": "code",
      "source": [
        "epochs = 5 #how many times you have to send data to the model\n",
        "\n",
        "for t in range(epochs):\n",
        "  training_loop(train_dataloader,model,loss_fn,optimizer)\n",
        "  testing_loop(test_dataloader,model,loss_fn)\n",
        "  print(f' ==================== EPOCH : {t} ============================')"
      ],
      "metadata": {
        "colab": {
          "base_uri": "https://localhost:8080/"
        },
        "id": "RtyvlrXhzWCl",
        "outputId": "a658d424-d44e-499c-cd55-0155a07d90ec"
      },
      "execution_count": 12,
      "outputs": [
        {
          "output_type": "stream",
          "name": "stdout",
          "text": [
            "loss : 2.332825183868408\n",
            "loss : 2.2905850410461426\n",
            "loss : 2.2688915729522705\n",
            "loss : 2.2540323734283447\n",
            "loss : 2.1909706592559814\n",
            "loss : 2.165078639984131\n",
            "loss : 2.0956015586853027\n",
            "loss : 1.992627739906311\n",
            "loss : 1.8720241785049438\n",
            "loss : 1.7435935735702515\n",
            "10000\n",
            "Accuracy : 55.379999999999995 with test error 1.7092311162098197\n",
            " ==================== EPOCH : 0 ============================\n",
            "loss : 1.7423704862594604\n",
            "loss : 1.6454795598983765\n",
            "loss : 1.462225317955017\n",
            "loss : 1.4752142429351807\n",
            "loss : 1.2896050214767456\n",
            "loss : 1.3103013038635254\n",
            "loss : 1.2534515857696533\n",
            "loss : 1.172013521194458\n",
            "loss : 1.1941152811050415\n",
            "loss : 1.1231846809387207\n",
            "10000\n",
            "Accuracy : 64.03999999999999 with test error 1.0986952489348734\n",
            " ==================== EPOCH : 1 ============================\n",
            "loss : 1.1662570238113403\n",
            "loss : 1.1243075132369995\n",
            "loss : 0.9543058276176453\n",
            "loss : 1.085724949836731\n",
            "loss : 0.9490207433700562\n",
            "loss : 0.9976717829704285\n",
            "loss : 0.9948585629463196\n",
            "loss : 0.912405252456665\n",
            "loss : 0.9432097673416138\n",
            "loss : 0.9198790788650513\n",
            "10000\n",
            "Accuracy : 70.02000000000001 with test error 0.885748024199419\n",
            " ==================== EPOCH : 2 ============================\n",
            "loss : 0.9161556363105774\n",
            "loss : 0.9226956367492676\n",
            "loss : 0.7276728749275208\n",
            "loss : 0.9117698669433594\n",
            "loss : 0.8131692409515381\n",
            "loss : 0.8175609707832336\n",
            "loss : 0.8594977259635925\n",
            "loss : 0.7843881845474243\n",
            "loss : 0.7951894998550415\n",
            "loss : 0.8002009987831116\n",
            "10000\n",
            "Accuracy : 72.83 with test error 0.7656267142979203\n",
            " ==================== EPOCH : 3 ============================\n",
            "loss : 0.7511315941810608\n",
            "loss : 0.7993510961532593\n",
            "loss : 0.589530348777771\n",
            "loss : 0.8075838685035706\n",
            "loss : 0.7448030710220337\n",
            "loss : 0.7088682055473328\n",
            "loss : 0.7805987000465393\n",
            "loss : 0.7214536666870117\n",
            "loss : 0.7238324880599976\n",
            "loss : 0.7296503186225891\n",
            "10000\n",
            "Accuracy : 74.22999999999999 with test error 0.700743122844939\n",
            " ==================== EPOCH : 4 ============================\n"
          ]
        }
      ]
    },
    {
      "cell_type": "code",
      "source": [],
      "metadata": {
        "id": "5KsJsbqxzg_8"
      },
      "execution_count": 12,
      "outputs": []
    }
  ]
}